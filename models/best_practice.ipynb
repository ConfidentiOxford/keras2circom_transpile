{
 "cells": [
  {
   "cell_type": "code",
   "execution_count": 1,
   "metadata": {},
   "outputs": [],
   "source": [
    "# list of supported layers\n",
    "from tensorflow.keras.layers import (\n",
    "    Input,\n",
    "    Activation,\n",
    "    AveragePooling2D,\n",
    "    BatchNormalization,\n",
    "    Conv2D,\n",
    "    Dense,\n",
    "    Dropout,\n",
    "    Flatten,\n",
    "    GlobalAveragePooling2D,\n",
    "    GlobalMaxPooling2D,\n",
    "    Lambda, # only for polynomial activation in the form of `Lambda(lambda x: x**2+x)`\n",
    "    MaxPooling2D,\n",
    "    ReLU,\n",
    "    Softmax,\n",
    "    )\n",
    "from tensorflow.keras import Model\n",
    "from tensorflow.keras.datasets import mnist\n",
    "from tensorflow.keras.utils import to_categorical\n",
    "import numpy as np\n",
    "import matplotlib.pyplot as plt\n",
    "import tensorflow as tf"
   ]
  },
  {
   "cell_type": "code",
   "execution_count": 2,
   "metadata": {},
   "outputs": [],
   "source": [
    "# load MNIST dataset\n",
    "(X_train, y_train), (X_test, y_test) = mnist.load_data()"
   ]
  },
  {
   "cell_type": "code",
   "execution_count": 3,
   "metadata": {},
   "outputs": [],
   "source": [
    "# convert y_train and y_test to one-hot encoding\n",
    "y_train = to_categorical(y_train)\n",
    "y_test = to_categorical(y_test)"
   ]
  },
  {
   "cell_type": "code",
   "execution_count": 4,
   "metadata": {},
   "outputs": [],
   "source": [
    "# reshape X_train and X_test to 4D tensor\n",
    "X_train = X_train.reshape(X_train.shape[0], 28, 28, 1)\n",
    "X_test = X_test.reshape(X_test.shape[0], 28, 28, 1)"
   ]
  },
  {
   "cell_type": "code",
   "execution_count": 5,
   "metadata": {},
   "outputs": [],
   "source": [
    "inputs = Input(shape=(28,28,1))\n",
    "out = Conv2D(4, 3, use_bias=False)(inputs)\n",
    "out = BatchNormalization()(out)\n",
    "out = Lambda(lambda x: x**2+x)(out) # best practice: use polynomial activation instead of ReLU\n",
    "out = AveragePooling2D()(out) # best practice: use AveragePooling2D instead of MaxPooling2D\n",
    "out = Conv2D(16, 3, use_bias=False)(out)\n",
    "out = BatchNormalization()(out)\n",
    "out = Lambda(lambda x: x**2+x)(out)\n",
    "out = AveragePooling2D()(out)\n",
    "out = GlobalAveragePooling2D()(out) # best practice: use GlobalAveragePooling2D instead of Flatten\n",
    "out = Dense(10, activation=None)(out)\n",
    "out = Softmax()(out)\n",
    "model = Model(inputs, out)"
   ]
  },
  {
   "cell_type": "code",
   "execution_count": 6,
   "metadata": {},
   "outputs": [
    {
     "name": "stdout",
     "output_type": "stream",
     "text": [
      "Model: \"model\"\n",
      "_________________________________________________________________\n",
      " Layer (type)                Output Shape              Param #   \n",
      "=================================================================\n",
      " input_1 (InputLayer)        [(None, 28, 28, 1)]       0         \n",
      "                                                                 \n",
      " conv2d (Conv2D)             (None, 26, 26, 4)         36        \n",
      "                                                                 \n",
      " batch_normalization (BatchN  (None, 26, 26, 4)        16        \n",
      " ormalization)                                                   \n",
      "                                                                 \n",
      " lambda (Lambda)             (None, 26, 26, 4)         0         \n",
      "                                                                 \n",
      " average_pooling2d (AverageP  (None, 13, 13, 4)        0         \n",
      " ooling2D)                                                       \n",
      "                                                                 \n",
      " conv2d_1 (Conv2D)           (None, 11, 11, 16)        576       \n",
      "                                                                 \n",
      " batch_normalization_1 (Batc  (None, 11, 11, 16)       64        \n",
      " hNormalization)                                                 \n",
      "                                                                 \n",
      " lambda_1 (Lambda)           (None, 11, 11, 16)        0         \n",
      "                                                                 \n",
      " average_pooling2d_1 (Averag  (None, 5, 5, 16)         0         \n",
      " ePooling2D)                                                     \n",
      "                                                                 \n",
      " global_average_pooling2d (G  (None, 16)               0         \n",
      " lobalAveragePooling2D)                                          \n",
      "                                                                 \n",
      " dense (Dense)               (None, 10)                170       \n",
      "                                                                 \n",
      " softmax (Softmax)           (None, 10)                0         \n",
      "                                                                 \n",
      "=================================================================\n",
      "Total params: 862\n",
      "Trainable params: 822\n",
      "Non-trainable params: 40\n",
      "_________________________________________________________________\n"
     ]
    }
   ],
   "source": [
    "model.summary()"
   ]
  },
  {
   "cell_type": "code",
   "execution_count": 7,
   "metadata": {},
   "outputs": [],
   "source": [
    "model.compile(\n",
    "    loss='categorical_crossentropy',\n",
    "    optimizer='adam',\n",
    "    metrics=['acc']\n",
    "    )"
   ]
  },
  {
   "cell_type": "code",
   "execution_count": 8,
   "metadata": {},
   "outputs": [
    {
     "name": "stdout",
     "output_type": "stream",
     "text": [
      "Epoch 1/15\n"
     ]
    },
    {
     "name": "stderr",
     "output_type": "stream",
     "text": [
      "2022-12-15 00:58:20.416051: W tensorflow/core/platform/profile_utils/cpu_utils.cc:128] Failed to get CPU frequency: 0 Hz\n"
     ]
    },
    {
     "name": "stdout",
     "output_type": "stream",
     "text": [
      "469/469 [==============================] - 5s 11ms/step - loss: 1.4933 - acc: 0.5921 - val_loss: 0.9403 - val_acc: 0.7958\n",
      "Epoch 2/15\n",
      "469/469 [==============================] - 6s 13ms/step - loss: 0.6094 - acc: 0.8744 - val_loss: 0.4354 - val_acc: 0.9026\n",
      "Epoch 3/15\n",
      "469/469 [==============================] - 7s 15ms/step - loss: 0.3549 - acc: 0.9181 - val_loss: 0.3081 - val_acc: 0.9280\n",
      "Epoch 4/15\n",
      "469/469 [==============================] - 5s 11ms/step - loss: 0.2660 - acc: 0.9337 - val_loss: 0.2328 - val_acc: 0.9382\n",
      "Epoch 5/15\n",
      "469/469 [==============================] - 5s 11ms/step - loss: 0.2244 - acc: 0.9405 - val_loss: 0.2119 - val_acc: 0.9407\n",
      "Epoch 6/15\n",
      "469/469 [==============================] - 5s 11ms/step - loss: 0.1993 - acc: 0.9454 - val_loss: 0.2094 - val_acc: 0.9371\n",
      "Epoch 7/15\n",
      "469/469 [==============================] - 6s 12ms/step - loss: 0.1809 - acc: 0.9499 - val_loss: 0.1846 - val_acc: 0.9428\n",
      "Epoch 8/15\n",
      "469/469 [==============================] - 6s 13ms/step - loss: 0.1699 - acc: 0.9516 - val_loss: 0.1652 - val_acc: 0.9534\n",
      "Epoch 9/15\n",
      "469/469 [==============================] - 5s 11ms/step - loss: 0.1586 - acc: 0.9543 - val_loss: 0.1673 - val_acc: 0.9509\n",
      "Epoch 10/15\n",
      "469/469 [==============================] - 5s 10ms/step - loss: 0.1523 - acc: 0.9561 - val_loss: 0.1771 - val_acc: 0.9457\n",
      "Epoch 11/15\n",
      "469/469 [==============================] - 5s 10ms/step - loss: 0.1462 - acc: 0.9574 - val_loss: 0.1608 - val_acc: 0.9527\n",
      "Epoch 12/15\n",
      "469/469 [==============================] - 5s 10ms/step - loss: 0.1402 - acc: 0.9582 - val_loss: 0.1376 - val_acc: 0.9592\n",
      "Epoch 13/15\n",
      "469/469 [==============================] - 5s 10ms/step - loss: 0.1366 - acc: 0.9593 - val_loss: 0.1806 - val_acc: 0.9470\n",
      "Epoch 14/15\n",
      "469/469 [==============================] - 5s 10ms/step - loss: 0.1317 - acc: 0.9608 - val_loss: 0.1290 - val_acc: 0.9613\n",
      "Epoch 15/15\n",
      "469/469 [==============================] - 6s 12ms/step - loss: 0.1287 - acc: 0.9623 - val_loss: 0.1384 - val_acc: 0.9600\n"
     ]
    },
    {
     "data": {
      "text/plain": [
       "<keras.callbacks.History at 0x136b68e80>"
      ]
     },
     "execution_count": 8,
     "metadata": {},
     "output_type": "execute_result"
    }
   ],
   "source": [
    "model.fit(X_train, y_train, epochs=15, batch_size=128, validation_data=(X_test, y_test))"
   ]
  },
  {
   "cell_type": "code",
   "execution_count": 9,
   "metadata": {},
   "outputs": [],
   "source": [
    "model.save('best_practice.h5')"
   ]
  },
  {
   "cell_type": "code",
   "execution_count": 10,
   "metadata": {},
   "outputs": [
    {
     "data": {
      "text/plain": [
       "<keras.layers.core.dense.Dense at 0x136aac190>"
      ]
     },
     "execution_count": 10,
     "metadata": {},
     "output_type": "execute_result"
    }
   ],
   "source": [
    "model2 = Model(model.input, model.layers[-2].output)\n",
    "model2.layers[-1]"
   ]
  },
  {
   "cell_type": "code",
   "execution_count": 11,
   "metadata": {},
   "outputs": [
    {
     "name": "stdout",
     "output_type": "stream",
     "text": [
      "1/1 [==============================] - 0s 45ms/step\n"
     ]
    },
    {
     "data": {
      "text/plain": [
       "array([[-0.3705054 , -2.1375978 ,  0.7712853 , -2.8083014 , -2.8595123 ,\n",
       "        -0.9700138 , -9.806515  ,  9.82091   , -8.521987  ,  0.55516744]],\n",
       "      dtype=float32)"
      ]
     },
     "execution_count": 11,
     "metadata": {},
     "output_type": "execute_result"
    }
   ],
   "source": [
    "X = X_test[[0]]\n",
    "y = model2.predict(X)\n",
    "y"
   ]
  },
  {
   "cell_type": "code",
   "execution_count": 12,
   "metadata": {},
   "outputs": [
    {
     "name": "stdout",
     "output_type": "stream",
     "text": [
      "InputLayer {'batch_input_shape': (None, 28, 28, 1), 'dtype': 'float32', 'sparse': False, 'ragged': False, 'name': 'input_1'}\n",
      "(None, 28, 28, 1) (None, 28, 28, 1)\n",
      "Conv2D {'name': 'conv2d', 'trainable': True, 'dtype': 'float32', 'filters': 4, 'kernel_size': (3, 3), 'strides': (1, 1), 'padding': 'valid', 'data_format': 'channels_last', 'dilation_rate': (1, 1), 'groups': 1, 'activation': 'linear', 'use_bias': False, 'kernel_initializer': {'class_name': 'GlorotUniform', 'config': {'seed': None}}, 'bias_initializer': {'class_name': 'Zeros', 'config': {}}, 'kernel_regularizer': None, 'bias_regularizer': None, 'activity_regularizer': None, 'kernel_constraint': None, 'bias_constraint': None}\n",
      "(None, 28, 28, 1) (None, 26, 26, 4)\n",
      "(3, 3, 1, 4)\n",
      "BatchNormalization {'name': 'batch_normalization', 'trainable': True, 'dtype': 'float32', 'axis': ListWrapper([3]), 'momentum': 0.99, 'epsilon': 0.001, 'center': True, 'scale': True, 'beta_initializer': {'class_name': 'Zeros', 'config': {}}, 'gamma_initializer': {'class_name': 'Ones', 'config': {}}, 'moving_mean_initializer': {'class_name': 'Zeros', 'config': {}}, 'moving_variance_initializer': {'class_name': 'Ones', 'config': {}}, 'beta_regularizer': None, 'gamma_regularizer': None, 'beta_constraint': None, 'gamma_constraint': None}\n",
      "(None, 26, 26, 4) (None, 26, 26, 4)\n",
      "(4,)\n",
      "(4,)\n",
      "Lambda {'name': 'lambda', 'trainable': True, 'dtype': 'float32', 'function': ('4wEAAAAAAAAAAAAAAAEAAAACAAAAQwAAAHMMAAAAfABkARMAfAAXAFMAKQJO6QIAAACpACkB2gF4\\ncgIAAAByAgAAAPpOL3Zhci9mb2xkZXJzL2d0L3NnM3Y4cmQxM2w1Mmp4OTFtZmJnemJmYzAwMDBn\\nbi9UL2lweWtlcm5lbF8xNTU3MS8yMTc2NzAzOTE5LnB52gg8bGFtYmRhPgQAAADzAAAAAA==\\n', None, None), 'function_type': 'lambda', 'module': '__main__', 'output_shape': None, 'output_shape_type': 'raw', 'output_shape_module': None, 'arguments': {}}\n",
      "('4wEAAAAAAAAAAAAAAAEAAAACAAAAQwAAAHMMAAAAfABkARMAfAAXAFMAKQJO6QIAAACpACkB2gF4\\ncgIAAAByAgAAAPpOL3Zhci9mb2xkZXJzL2d0L3NnM3Y4cmQxM2w1Mmp4OTFtZmJnemJmYzAwMDBn\\nbi9UL2lweWtlcm5lbF8xNTU3MS8yMTc2NzAzOTE5LnB52gg8bGFtYmRhPgQAAADzAAAAAA==\\n', None, None)\n",
      "(None, 26, 26, 4) (None, 26, 26, 4)\n",
      "AveragePooling2D {'name': 'average_pooling2d', 'trainable': True, 'dtype': 'float32', 'pool_size': (2, 2), 'padding': 'valid', 'strides': (2, 2), 'data_format': 'channels_last'}\n",
      "(None, 26, 26, 4) (None, 13, 13, 4)\n",
      "Conv2D {'name': 'conv2d_1', 'trainable': True, 'dtype': 'float32', 'filters': 16, 'kernel_size': (3, 3), 'strides': (1, 1), 'padding': 'valid', 'data_format': 'channels_last', 'dilation_rate': (1, 1), 'groups': 1, 'activation': 'linear', 'use_bias': False, 'kernel_initializer': {'class_name': 'GlorotUniform', 'config': {'seed': None}}, 'bias_initializer': {'class_name': 'Zeros', 'config': {}}, 'kernel_regularizer': None, 'bias_regularizer': None, 'activity_regularizer': None, 'kernel_constraint': None, 'bias_constraint': None}\n",
      "(None, 13, 13, 4) (None, 11, 11, 16)\n",
      "(3, 3, 4, 16)\n",
      "BatchNormalization {'name': 'batch_normalization_1', 'trainable': True, 'dtype': 'float32', 'axis': ListWrapper([3]), 'momentum': 0.99, 'epsilon': 0.001, 'center': True, 'scale': True, 'beta_initializer': {'class_name': 'Zeros', 'config': {}}, 'gamma_initializer': {'class_name': 'Ones', 'config': {}}, 'moving_mean_initializer': {'class_name': 'Zeros', 'config': {}}, 'moving_variance_initializer': {'class_name': 'Ones', 'config': {}}, 'beta_regularizer': None, 'gamma_regularizer': None, 'beta_constraint': None, 'gamma_constraint': None}\n",
      "(None, 11, 11, 16) (None, 11, 11, 16)\n",
      "(16,)\n",
      "(16,)\n",
      "Lambda {'name': 'lambda_1', 'trainable': True, 'dtype': 'float32', 'function': ('4wEAAAAAAAAAAAAAAAEAAAACAAAAQwAAAHMMAAAAfABkARMAfAAXAFMAKQJO6QIAAACpACkB2gF4\\ncgIAAAByAgAAAPpOL3Zhci9mb2xkZXJzL2d0L3NnM3Y4cmQxM2w1Mmp4OTFtZmJnemJmYzAwMDBn\\nbi9UL2lweWtlcm5lbF8xNTU3MS8yMTc2NzAzOTE5LnB52gg8bGFtYmRhPggAAADzAAAAAA==\\n', None, None), 'function_type': 'lambda', 'module': '__main__', 'output_shape': None, 'output_shape_type': 'raw', 'output_shape_module': None, 'arguments': {}}\n",
      "('4wEAAAAAAAAAAAAAAAEAAAACAAAAQwAAAHMMAAAAfABkARMAfAAXAFMAKQJO6QIAAACpACkB2gF4\\ncgIAAAByAgAAAPpOL3Zhci9mb2xkZXJzL2d0L3NnM3Y4cmQxM2w1Mmp4OTFtZmJnemJmYzAwMDBn\\nbi9UL2lweWtlcm5lbF8xNTU3MS8yMTc2NzAzOTE5LnB52gg8bGFtYmRhPggAAADzAAAAAA==\\n', None, None)\n",
      "(None, 11, 11, 16) (None, 11, 11, 16)\n",
      "AveragePooling2D {'name': 'average_pooling2d_1', 'trainable': True, 'dtype': 'float32', 'pool_size': (2, 2), 'padding': 'valid', 'strides': (2, 2), 'data_format': 'channels_last'}\n",
      "(None, 11, 11, 16) (None, 5, 5, 16)\n",
      "GlobalAveragePooling2D {'name': 'global_average_pooling2d', 'trainable': True, 'dtype': 'float32', 'data_format': 'channels_last', 'keepdims': False}\n",
      "(None, 5, 5, 16) (None, 16)\n",
      "Dense {'name': 'dense', 'trainable': True, 'dtype': 'float32', 'units': 10, 'activation': 'linear', 'use_bias': True, 'kernel_initializer': {'class_name': 'GlorotUniform', 'config': {'seed': None}}, 'bias_initializer': {'class_name': 'Zeros', 'config': {}}, 'kernel_regularizer': None, 'bias_regularizer': None, 'activity_regularizer': None, 'kernel_constraint': None, 'bias_constraint': None}\n",
      "(None, 16) (None, 10)\n",
      "(16, 10)\n",
      "(10,)\n",
      "Softmax {'name': 'softmax', 'trainable': True, 'dtype': 'float32', 'axis': -1}\n",
      "(None, 10) (None, 10)\n"
     ]
    }
   ],
   "source": [
    "for layer in model.layers:\n",
    "    print(layer.__class__.__name__, layer.get_config())\n",
    "    try:\n",
    "        print(layer.get_config()['function'])\n",
    "    except:\n",
    "        pass\n",
    "    print(layer.get_input_shape_at(0),layer.get_output_shape_at(0))\n",
    "    try:\n",
    "        print(layer.get_weights()[0].shape)\n",
    "        print(layer.get_weights()[1].shape)\n",
    "    except:\n",
    "        pass"
   ]
  },
  {
   "cell_type": "code",
   "execution_count": 13,
   "metadata": {},
   "outputs": [],
   "source": [
    "import json"
   ]
  },
  {
   "cell_type": "code",
   "execution_count": 14,
   "metadata": {},
   "outputs": [],
   "source": [
    "with open(\"best_practice.json\", \"w\") as f:\n",
    "    json.dump({'X': X.flatten().tolist(), 'y': y.flatten().tolist()}, f)"
   ]
  },
  {
   "cell_type": "code",
   "execution_count": null,
   "metadata": {},
   "outputs": [],
   "source": []
  }
 ],
 "metadata": {
  "kernelspec": {
   "display_name": "keras2circom",
   "language": "python",
   "name": "python3"
  },
  "language_info": {
   "codemirror_mode": {
    "name": "ipython",
    "version": 3
   },
   "file_extension": ".py",
   "mimetype": "text/x-python",
   "name": "python",
   "nbconvert_exporter": "python",
   "pygments_lexer": "ipython3",
   "version": "3.9.13"
  },
  "orig_nbformat": 4,
  "vscode": {
   "interpreter": {
    "hash": "71414dc221f26c27f268040756e42b4f7499507456a67f7434828e3314a20678"
   }
  }
 },
 "nbformat": 4,
 "nbformat_minor": 2
}
